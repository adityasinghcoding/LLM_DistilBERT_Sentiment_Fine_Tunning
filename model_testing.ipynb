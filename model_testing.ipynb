{
 "cells": [
  {
   "attachments": {},
   "cell_type": "markdown",
   "metadata": {},
   "source": [
    "# Testing Fine Tuned Model"
   ]
  },
  {
   "cell_type": "code",
   "execution_count": 25,
   "metadata": {},
   "outputs": [],
   "source": [
    "from transformers import AutoTokenizer, AutoModelForSequenceClassification\n",
    "import torch"
   ]
  },
  {
   "cell_type": "code",
   "execution_count": 28,
   "metadata": {},
   "outputs": [],
   "source": [
    "# 1. Loading saved MODEL(Tuned) & Tokenizer\n",
    "model_path = \"H:\\Resume Projects\\LLM Fine Tunning\\Tuned Model\""
   ]
  },
  {
   "cell_type": "code",
   "execution_count": 29,
   "metadata": {},
   "outputs": [],
   "source": [
    "# Loading components\n",
    "tokenizer =AutoTokenizer.from_pretrained(model_path)\n",
    "model = AutoModelForSequenceClassification.from_pretrained(model_path)"
   ]
  },
  {
   "cell_type": "code",
   "execution_count": 38,
   "metadata": {},
   "outputs": [
    {
     "name": "stdout",
     "output_type": "stream",
     "text": [
      "Text: It was waste of time\n",
      "Predicted sentiment: Negative\n",
      "Confidence: 89.37%\n"
     ]
    }
   ],
   "source": [
    "# 2. Taking Input from User.\n",
    "\n",
    "text = input(\"Enter text: \")\n",
    "\n",
    "# 3. Tokenizing User Input\n",
    "\n",
    "# Processing input same way as did during training.\n",
    "inputs = tokenizer(\n",
    "   text,\n",
    "   padding= \"max_length\",\n",
    "   truncation = True,\n",
    "   max_length = 128, # Must match training length\n",
    "   return_tensors= \"pt\" # Returning PyTorch tensors\n",
    ")\n",
    "\n",
    "\n",
    "# 4. MAKE PREDICTION\n",
    "\n",
    "# Telling model not to compute gradients (faster inference)\n",
    "with torch.no_grad():\n",
    "   outputs = model(**inputs)\n",
    "\n",
    "\n",
    "# 5. Interpreting Results\n",
    "\n",
    "# Converting raw outputs to probabilities\n",
    "# softmax(sums to 1) is used model's raw-output(logits) to get probabilities in %. \n",
    "probabilities = torch.nn.functional.softmax(outputs.logits, dim=-1) #dim= -1 : for targeting last tensor(array)\n",
    "\n",
    "# Getting predicted class (0 or 1 for binary classification)\n",
    "predicted_class = torch.argmax(probabilities).item() # argmax: finds highest probabilities in from classes\n",
    "\n",
    "# 6. Mapping to Labels.\n",
    "\n",
    "# Remember what your labels mean: (Should match your training dataset's label mapping)\n",
    "class_names = {\n",
    "   0: \"Negative\",\n",
    "   1: \"Positive\"\n",
    "}\n",
    "\n",
    "print(f\"Text: {text}\")\n",
    "print(f\"Predicted sentiment: {class_names[predicted_class]}\")\n",
    "print(f\"Confidence: {probabilities[0][predicted_class].item():.2%}\")"
   ]
  },
  {
   "attachments": {},
   "cell_type": "markdown",
   "metadata": {},
   "source": [
    "Wrapping in sentiment predcition in function"
   ]
  },
  {
   "cell_type": "code",
   "execution_count": 52,
   "metadata": {},
   "outputs": [
    {
     "name": "stdout",
     "output_type": "stream",
     "text": [
      "\n",
      "   Sentiment Analysis Result:\n",
      "   -----------------------------\n",
      "   Text: It worth watching it\n",
      "   Sentiment: Positive\n",
      "   Confidence: 86.33%\n",
      "   -----------------------------\n",
      "   \n"
     ]
    }
   ],
   "source": [
    "from pprint import pformat\n",
    "\n",
    "def predict_sentiment():\n",
    "   text = input(\"\\nEnter text: \")\n",
    "   \n",
    "   class_names = {\n",
    "   0: \"Negative\",\n",
    "   1: \"Positive\"\n",
    "   }\n",
    "\n",
    "   inputs = tokenizer(\n",
    "      text,\n",
    "      padding=\"max_length\",\n",
    "      truncation=True,\n",
    "      max_length=128,\n",
    "      return_tensors=\"pt\"\n",
    "   )\n",
    "\n",
    "   with torch.no_grad():\n",
    "      outputs = model(**inputs)\n",
    "\n",
    "   probs = torch.nn.functional.softmax(outputs.logits, dim=-1)\n",
    "   predicted_class = torch.argmax(probs).item()\n",
    "\n",
    "   return f\"\"\"\n",
    "   Sentiment Analysis Result:\n",
    "   -----------------------------\n",
    "   Text: {text}\n",
    "   Sentiment: {class_names[predicted_class]}\n",
    "   Confidence: {probs[0][predicted_class].item():.2%}\n",
    "   -----------------------------\n",
    "   \"\"\"\n",
    "\n",
    "\n",
    "# Testing sentiment using function\n",
    "# print(\"Pretting printing using 'P Format':\\n\\n\",pformat(predict_sentiment(), indent=2))\n",
    "print(predict_sentiment())"
   ]
  },
  {
   "cell_type": "markdown",
   "metadata": {},
   "source": []
  },
  {
   "cell_type": "code",
   "execution_count": null,
   "metadata": {},
   "outputs": [],
   "source": [
    "It worth watching it"
   ]
  },
  {
   "cell_type": "code",
   "execution_count": null,
   "metadata": {},
   "outputs": [],
   "source": []
  }
 ],
 "metadata": {
  "kernelspec": {
   "display_name": "Python 3",
   "language": "python",
   "name": "python3"
  },
  "language_info": {
   "codemirror_mode": {
    "name": "ipython",
    "version": 3
   },
   "file_extension": ".py",
   "mimetype": "text/x-python",
   "name": "python",
   "nbconvert_exporter": "python",
   "pygments_lexer": "ipython3",
   "version": "3.11.5"
  },
  "orig_nbformat": 4
 },
 "nbformat": 4,
 "nbformat_minor": 2
}
